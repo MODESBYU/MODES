{
 "cells": [
  {
   "cell_type": "markdown",
   "id": "bac90ef2-5f85-4a12-8805-11407d644028",
   "metadata": {},
   "source": [
    "# Food Coloring Spectra\n",
    "## Will Mulberry and Kevan Williams\n",
    "\n",
    "This report details the process taken to gather spectroscopy data for water and food coloring mixtures."
   ]
  },
  {
   "cell_type": "markdown",
   "id": "2d1c25fd-c709-4f59-a33a-73906dd9fa43",
   "metadata": {},
   "source": [
    "$Absorption = -\\ln({\\frac{I-I_{background}}{I_0-I_{background}}})$  \n",
    "This equation describes the absorption calculation. *I<sub>background</sub>* represents data taken while covering the detector this accounts for bias in the detector. *I\n",
    "<sub>0</sub>* represents the baseline measurement, in this case the baseline was clear water. *I* represents the spectra data taken from the desired subject, in this case this is a water and food coloring mixture."
   ]
  },
  {
   "cell_type": "code",
   "execution_count": 1,
   "id": "b8571fa4-3d55-4fb0-861d-0c97c86b4a90",
   "metadata": {},
   "outputs": [],
   "source": [
    "import numpy as np\n",
    "import matplotlib.pyplot as plt\n",
    "\n",
    "def absorbance(background, baseline, measurement, rows=14):\n",
    "    # we take in 3 files, skip rows, and gather wavelength and intensity data\n",
    "    backwave, backval = np.loadtxt(background, unpack = True, skiprows = rows)\n",
    "    basewave, baseval = np.loadtxt(baseline, unpack = True, skiprows = rows)\n",
    "    measurewave, measureval = np.loadtxt(measurement, unpack = True, skiprows = rows)\n",
    "    \n",
    "    absorbance = -np.log( (measureval-backval) / (baseval-backval) )\n",
    "    \n",
    "    plt.plot(measurewave, absorbance)\n",
    "    plt.grid()\n",
    "    plt.xlabel(\"Wavelength\")\n",
    "    plt.ylabel(\"Absorbance\")"
   ]
  },
  {
   "cell_type": "code",
   "execution_count": null,
   "id": "faa654b5-72ab-403b-8a65-28098fad8ccc",
   "metadata": {},
   "outputs": [],
   "source": []
  }
 ],
 "metadata": {
  "kernelspec": {
   "display_name": "Python 3 (ipykernel)",
   "language": "python",
   "name": "python3"
  },
  "language_info": {
   "codemirror_mode": {
    "name": "ipython",
    "version": 3
   },
   "file_extension": ".py",
   "mimetype": "text/x-python",
   "name": "python",
   "nbconvert_exporter": "python",
   "pygments_lexer": "ipython3",
   "version": "3.11.7"
  }
 },
 "nbformat": 4,
 "nbformat_minor": 5
}
