{
 "cells": [
  {
   "cell_type": "code",
   "execution_count": 21,
   "id": "5244eefe-6550-4195-80fa-ac664419edd2",
   "metadata": {
    "tags": []
   },
   "outputs": [],
   "source": [
    "import pandas as pd\n",
    "import matplotlib.pyplot as plt\n",
    "import numpy as np"
   ]
  },
  {
   "cell_type": "code",
   "execution_count": 22,
   "id": "218facb6-bed7-426a-8abb-c8eae5f667bb",
   "metadata": {
    "tags": []
   },
   "outputs": [
    {
     "name": "stdout",
     "output_type": "stream",
     "text": [
      "hello\n"
     ]
    }
   ],
   "source": [
    "print('hello')"
   ]
  },
  {
   "cell_type": "code",
   "execution_count": 23,
   "id": "cafb5cde-2880-4875-b90a-e60fefd76372",
   "metadata": {
    "tags": []
   },
   "outputs": [
    {
     "ename": "ValueError",
     "evalue": "Dataset(s) incompatible with Pandas data types, not table, or no datasets found in HDF5 file.",
     "output_type": "error",
     "traceback": [
      "\u001b[1;31m---------------------------------------------------------------------------\u001b[0m",
      "\u001b[1;31mValueError\u001b[0m                                Traceback (most recent call last)",
      "Cell \u001b[1;32mIn[23], line 1\u001b[0m\n\u001b[1;32m----> 1\u001b[0m df \u001b[38;5;241m=\u001b[39m pd\u001b[38;5;241m.\u001b[39mread_hdf(\u001b[38;5;124m'\u001b[39m\u001b[38;5;124mtest.mapx\u001b[39m\u001b[38;5;124m'\u001b[39m)\n\u001b[0;32m      3\u001b[0m display(df)\n",
      "File \u001b[1;32m~\\AnacondaTry2\\Lib\\site-packages\\pandas\\io\\pytables.py:429\u001b[0m, in \u001b[0;36mread_hdf\u001b[1;34m(path_or_buf, key, mode, errors, where, start, stop, columns, iterator, chunksize, **kwargs)\u001b[0m\n\u001b[0;32m    427\u001b[0m groups \u001b[38;5;241m=\u001b[39m store\u001b[38;5;241m.\u001b[39mgroups()\n\u001b[0;32m    428\u001b[0m \u001b[38;5;28;01mif\u001b[39;00m \u001b[38;5;28mlen\u001b[39m(groups) \u001b[38;5;241m==\u001b[39m \u001b[38;5;241m0\u001b[39m:\n\u001b[1;32m--> 429\u001b[0m     \u001b[38;5;28;01mraise\u001b[39;00m \u001b[38;5;167;01mValueError\u001b[39;00m(\n\u001b[0;32m    430\u001b[0m         \u001b[38;5;124m\"\u001b[39m\u001b[38;5;124mDataset(s) incompatible with Pandas data types, \u001b[39m\u001b[38;5;124m\"\u001b[39m\n\u001b[0;32m    431\u001b[0m         \u001b[38;5;124m\"\u001b[39m\u001b[38;5;124mnot table, or no datasets found in HDF5 file.\u001b[39m\u001b[38;5;124m\"\u001b[39m\n\u001b[0;32m    432\u001b[0m     )\n\u001b[0;32m    433\u001b[0m candidate_only_group \u001b[38;5;241m=\u001b[39m groups[\u001b[38;5;241m0\u001b[39m]\n\u001b[0;32m    435\u001b[0m \u001b[38;5;66;03m# For the HDF file to have only one dataset, all other groups\u001b[39;00m\n\u001b[0;32m    436\u001b[0m \u001b[38;5;66;03m# should then be metadata groups for that candidate group. (This\u001b[39;00m\n\u001b[0;32m    437\u001b[0m \u001b[38;5;66;03m# assumes that the groups() method enumerates parent groups\u001b[39;00m\n\u001b[0;32m    438\u001b[0m \u001b[38;5;66;03m# before their children.)\u001b[39;00m\n",
      "\u001b[1;31mValueError\u001b[0m: Dataset(s) incompatible with Pandas data types, not table, or no datasets found in HDF5 file."
     ]
    }
   ],
   "source": [
    "df = pd.read_hdf('test.mapx')\n",
    "\n",
    "display(df)"
   ]
  },
  {
   "cell_type": "code",
   "execution_count": null,
   "id": "ffeb7483-059e-4726-8340-87e8e7f8fdf7",
   "metadata": {
    "tags": []
   },
   "outputs": [],
   "source": [
    "pip install h5py"
   ]
  },
  {
   "cell_type": "code",
   "execution_count": 32,
   "id": "c7d9a579",
   "metadata": {
    "tags": []
   },
   "outputs": [
    {
     "name": "stdout",
     "output_type": "stream",
     "text": [
      "Groups: ['Addendum', 'FileInfo', 'Mosaic']\n",
      "\n",
      "<KeysViewHDF5 ['Centers', 'Image0', 'Image1', 'Image10', 'Image11', 'Image12', 'Image13', 'Image14', 'Image15', 'Image16', 'Image17', 'Image18', 'Image2', 'Image3', 'Image4', 'Image5', 'Image6', 'Image7', 'Image8', 'Image9']>\n",
      "\n",
      "<class 'h5py._hl.dataset.Dataset'>\n",
      "[ 66  77 250 ...  12   0   0]\n",
      "7562490\n",
      "2520830\n",
      "Factors of 2520830 are: [1, 2, 5, 10, 13, 26, 65, 130, 19391, 38782, 96955, 193910, 252083, 504166, 1260415, 2520830]\n"
     ]
    },
    {
     "data": {
      "image/png": "[encoded data removed]",
      "text/plain": [
       "<Figure size 640x480 with 1 Axes>"
      ]
     },
     "metadata": {},
     "output_type": "display_data"
    }
   ],
   "source": [
    "import h5py\n",
    "import numpy as np\n",
    "\n",
    "# Open the HDF5 file\n",
    "with h5py.File('test.mapx', 'r') as f:\n",
    "    # List all the groups in the file\n",
    "    print(\"Groups:\", list(f.keys()))\n",
    "    print()\n",
    "\n",
    "    # Assuming your dataset is in the root group, you can access it like this\n",
    "#     dataset = f['your_dataset_name']\n",
    "\n",
    "#     # Convert the dataset to a NumPy array\n",
    "#     numpy_array = np.array(dataset)\n",
    "\n",
    "#     # Now you can work with your NumPy array\n",
    "#     print(\"Shape of the array:\", numpy_array.shape)\n",
    "    print(f['Mosaic'].keys())\n",
    "    print()\n",
    "    \n",
    "    print(type(f['Mosaic']['Image14']))\n",
    "    \n",
    "    image_data = f['Mosaic']['Image14'][:]\n",
    "    print(image_data)\n",
    "    \n",
    "    # Plot the image using matplotlib\n",
    "    # plt.imshow(image_data, cmap='gray')  # Assuming it's a grayscale image\n",
    "    # plt.title('Image14')\n",
    "    # plt.colorbar()  # Add a color bar for reference\n",
    "    # plt.show()\n",
    "    \n",
    "    # attempt\n",
    "    x = np.linspace(0,100,len(image_data))\n",
    "    plt.plot(x,image_data)\n",
    "    \n",
    "    print(len(image_data))\n",
    "    \n",
    "    number = int(len(image_data) / 3)\n",
    "    print(number)\n",
    "\n",
    "    factors = []\n",
    "    for i in range(1, int(number**0.5) + 1):\n",
    "        if number % i == 0:\n",
    "            factors.append(i)\n",
    "            if i != number // i:\n",
    "                factors.append(number // i)\n",
    "\n",
    "    factors.sort()\n",
    "\n",
    "    print(\"Factors of\", number, \"are:\", factors)\n",
    "    \n",
    "    for i in range(len(factors)):\n",
    "        \n"
   ]
  },
  {
   "cell_type": "code",
   "execution_count": null,
   "id": "f9bf16a3-b2e9-464f-abea-ad70b31f5c7e",
   "metadata": {},
   "outputs": [],
   "source": []
  },
  {
   "cell_type": "code",
   "execution_count": null,
   "id": "bea384ad-a76b-45a3-b320-d65346d871c6",
   "metadata": {},
   "outputs": [],
   "source": []
  },
  {
   "cell_type": "code",
   "execution_count": null,
   "id": "675a7675-fecc-4e2e-81c0-e00efc318cc8",
   "metadata": {},
   "outputs": [],
   "source": []
  }
 ],
 "metadata": {
  "kernelspec": {
   "display_name": "Python 3 (ipykernel)",
   "language": "python",
   "name": "python3"
  },
  "language_info": {
   "codemirror_mode": {
    "name": "ipython",
    "version": 3
   },
   "file_extension": ".py",
   "mimetype": "text/x-python",
   "name": "python",
   "nbconvert_exporter": "python",
   "pygments_lexer": "ipython3",
   "version": "3.11.5"
  }
 },
 "nbformat": 4,
 "nbformat_minor": 5
}
