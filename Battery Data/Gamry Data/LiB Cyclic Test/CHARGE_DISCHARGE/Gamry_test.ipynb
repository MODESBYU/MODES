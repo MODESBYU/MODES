{
 "cells": [
  {
   "cell_type": "code",
   "execution_count": 123,
   "id": "fec570a7-6136-42c9-b4f3-0cadcf8de91f",
   "metadata": {},
   "outputs": [],
   "source": [
    "import pandas as pd\n",
    "import numpy as np\n",
    "import matplotlib.pyplot as plt\n",
    "%matplotlib inline\n",
    "from matplotlib.ticker import FixedLocator"
   ]
  },
  {
   "cell_type": "code",
   "execution_count": 190,
   "id": "5dca42ad-b323-4762-992f-a2c6b1d6a5b8",
   "metadata": {},
   "outputs": [],
   "source": [
    "df = pd.read_csv('CHARGE_1.dta',sep='\\t',skiprows=60)\n",
    "df2 = pd.read_csv('DISCHARGE_1.dta',sep='\\t',skiprows=59)\n",
    "#print(df2)\n",
    "#print(df)\n",
    "Voltage = df['V'][0:len(df['V']) - 1]\n",
    "time = df['s'][0:len(df['s'])-1] + df2['s'][len(df2['s'])-2]\n",
    "Current = df['A'][0:len(df['A'])-1]\n",
    "Voltage2 = df2['V'][0:len(df2['V']) - 1]\n",
    "time2 = df2['s'][0:len(df2['s'])-1]\n",
    "Current2 = df2['A'][0:len(df2['A'])-1]\n",
    "#print(df2['s'][len(df2['s'])-2])\n",
    "#print(time,time2)\n",
    "#print(Voltage,Voltage2)"
   ]
  },
  {
   "cell_type": "code",
   "execution_count": 1,
   "id": "87f50551-3db6-4f93-b5c3-ae16f208bc8e",
   "metadata": {},
   "outputs": [
    {
     "ename": "NameError",
     "evalue": "name 'plt' is not defined",
     "output_type": "error",
     "traceback": [
      "\u001b[1;31m---------------------------------------------------------------------------\u001b[0m",
      "\u001b[1;31mNameError\u001b[0m                                 Traceback (most recent call last)",
      "Input \u001b[1;32mIn [1]\u001b[0m, in \u001b[0;36m<cell line: 1>\u001b[1;34m()\u001b[0m\n\u001b[1;32m----> 1\u001b[0m \u001b[43mplt\u001b[49m\u001b[38;5;241m.\u001b[39mfigure(figsize\u001b[38;5;241m=\u001b[39m(\u001b[38;5;241m12\u001b[39m,\u001b[38;5;241m8\u001b[39m))\n\u001b[0;32m      2\u001b[0m V \u001b[38;5;241m=\u001b[39m np\u001b[38;5;241m.\u001b[39mzeros(\u001b[38;5;28mlen\u001b[39m(Voltage))\n\u001b[0;32m      3\u001b[0m \u001b[38;5;28;01mfor\u001b[39;00m i \u001b[38;5;129;01min\u001b[39;00m \u001b[38;5;28mrange\u001b[39m(\u001b[38;5;28mlen\u001b[39m(Voltage)):\n",
      "\u001b[1;31mNameError\u001b[0m: name 'plt' is not defined"
     ]
    }
   ],
   "source": [
    "plt.figure(figsize=(12,8))\n",
    "V = np.zeros(len(Voltage))\n",
    "for i in range(len(Voltage)):\n",
    "    V[i] = Voltage[i]\n",
    "plt.plot(time,V,label=\"Charge\")    \n",
    "V2 = np.zeros(len(Voltage2))\n",
    "for i in range(len(Voltage2)):\n",
    "    V2[i] = Voltage2[i]\n",
    "plt.plot(time2,V2,label=\"Discharge\")\n",
    "plt.ylabel(\"Voltage (V)\")\n",
    "plt.xlabel(\"Time (s)\")\n",
    "y_ticks = np.linspace(3.2, 4, 10)\n",
    "plt.yticks(y_ticks, [f\"{val:.2f}\" for val in y_ticks])\n",
    "plt.title(\"Lithium Ion Button Cell Charge/Discharge Cycle\")\n",
    "plt.legend()\n",
    "plt.show()"
   ]
  },
  {
   "cell_type": "code",
   "execution_count": null,
   "id": "c40924bd-f620-44f6-805f-72a0cb59dfba",
   "metadata": {},
   "outputs": [],
   "source": []
  }
 ],
 "metadata": {
  "kernelspec": {
   "display_name": "Python [conda env:anaconda3]",
   "language": "python",
   "name": "conda-env-anaconda3-py"
  },
  "language_info": {
   "codemirror_mode": {
    "name": "ipython",
    "version": 3
   },
   "file_extension": ".py",
   "mimetype": "text/x-python",
   "name": "python",
   "nbconvert_exporter": "python",
   "pygments_lexer": "ipython3",
   "version": "3.9.12"
  }
 },
 "nbformat": 4,
 "nbformat_minor": 5
}
