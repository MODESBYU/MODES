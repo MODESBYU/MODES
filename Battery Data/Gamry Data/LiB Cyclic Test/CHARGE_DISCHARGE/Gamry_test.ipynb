{
 "cells": [
  {
   "cell_type": "code",
   "execution_count": 1,
   "id": "fec570a7-6136-42c9-b4f3-0cadcf8de91f",
   "metadata": {},
   "outputs": [],
   "source": [
    "import pandas as pd"
   ]
  },
  {
   "cell_type": "code",
   "execution_count": 5,
   "id": "7bb42306-fdab-4a7d-acde-f52d00f620a5",
   "metadata": {},
   "outputs": [
    {
     "name": "stderr",
     "output_type": "stream",
     "text": [
      "'rbstata' is not recognized as an internal or external command,\n",
      "operable program or batch file.\n"
     ]
    }
   ],
   "source": [
    "! rbstata convert --inpath 'C:\\Users\\schuy\\Desktop\\MODES\\Battery Data\\Gamry Data\\LiB Cyclic Test\\CHARGE_DISCHARGE\\CHARGE_#1.DTA' --outpath \"C:\\Users\\schuy\\Desktop\\MODES\\Battery Data\\Gamry Data\\LiB Cyclic Test\\CHARGE_DISCHARGE\\CHARGE_#1-new.DTA\" --version 105\n"
   ]
  },
  {
   "cell_type": "code",
   "execution_count": 3,
   "id": "5dca42ad-b323-4762-992f-a2c6b1d6a5b8",
   "metadata": {},
   "outputs": [
    {
     "ename": "ValueError",
     "evalue": "Version of given Stata file is 69. pandas supports importing versions 105, 108, 111 (Stata 7SE), 113 (Stata 8/9), 114 (Stata 10/11), 115 (Stata 12), 117 (Stata 13), 118 (Stata 14/15/16),and 119 (Stata 15/16, over 32,767 variables).",
     "output_type": "error",
     "traceback": [
      "\u001b[1;31m---------------------------------------------------------------------------\u001b[0m",
      "\u001b[1;31mValueError\u001b[0m                                Traceback (most recent call last)",
      "Input \u001b[1;32mIn [3]\u001b[0m, in \u001b[0;36m<cell line: 1>\u001b[1;34m()\u001b[0m\n\u001b[1;32m----> 1\u001b[0m df \u001b[38;5;241m=\u001b[39m \u001b[43mpd\u001b[49m\u001b[38;5;241;43m.\u001b[39;49m\u001b[43mread_stata\u001b[49m\u001b[43m(\u001b[49m\u001b[38;5;124;43m'\u001b[39;49m\u001b[38;5;124;43mCHARGE_#1.dta\u001b[39;49m\u001b[38;5;124;43m'\u001b[39;49m\u001b[43m)\u001b[49m\n\u001b[0;32m      2\u001b[0m \u001b[38;5;28mprint\u001b[39m(df\u001b[38;5;241m.\u001b[39mhead())\n",
      "File \u001b[1;32m~\\anaconda3\\lib\\site-packages\\pandas\\io\\stata.py:2004\u001b[0m, in \u001b[0;36mread_stata\u001b[1;34m(filepath_or_buffer, convert_dates, convert_categoricals, index_col, convert_missing, preserve_dtypes, columns, order_categoricals, chunksize, iterator, compression, storage_options)\u001b[0m\n\u001b[0;32m   1988\u001b[0m \u001b[38;5;129m@Appender\u001b[39m(_read_stata_doc)\n\u001b[0;32m   1989\u001b[0m \u001b[38;5;28;01mdef\u001b[39;00m \u001b[38;5;21mread_stata\u001b[39m(\n\u001b[0;32m   1990\u001b[0m     filepath_or_buffer: FilePath \u001b[38;5;241m|\u001b[39m ReadBuffer[\u001b[38;5;28mbytes\u001b[39m],\n\u001b[1;32m   (...)\u001b[0m\n\u001b[0;32m   2001\u001b[0m     storage_options: StorageOptions \u001b[38;5;241m=\u001b[39m \u001b[38;5;28;01mNone\u001b[39;00m,\n\u001b[0;32m   2002\u001b[0m ) \u001b[38;5;241m-\u001b[39m\u001b[38;5;241m>\u001b[39m DataFrame \u001b[38;5;241m|\u001b[39m StataReader:\n\u001b[1;32m-> 2004\u001b[0m     reader \u001b[38;5;241m=\u001b[39m \u001b[43mStataReader\u001b[49m\u001b[43m(\u001b[49m\n\u001b[0;32m   2005\u001b[0m \u001b[43m        \u001b[49m\u001b[43mfilepath_or_buffer\u001b[49m\u001b[43m,\u001b[49m\n\u001b[0;32m   2006\u001b[0m \u001b[43m        \u001b[49m\u001b[43mconvert_dates\u001b[49m\u001b[38;5;241;43m=\u001b[39;49m\u001b[43mconvert_dates\u001b[49m\u001b[43m,\u001b[49m\n\u001b[0;32m   2007\u001b[0m \u001b[43m        \u001b[49m\u001b[43mconvert_categoricals\u001b[49m\u001b[38;5;241;43m=\u001b[39;49m\u001b[43mconvert_categoricals\u001b[49m\u001b[43m,\u001b[49m\n\u001b[0;32m   2008\u001b[0m \u001b[43m        \u001b[49m\u001b[43mindex_col\u001b[49m\u001b[38;5;241;43m=\u001b[39;49m\u001b[43mindex_col\u001b[49m\u001b[43m,\u001b[49m\n\u001b[0;32m   2009\u001b[0m \u001b[43m        \u001b[49m\u001b[43mconvert_missing\u001b[49m\u001b[38;5;241;43m=\u001b[39;49m\u001b[43mconvert_missing\u001b[49m\u001b[43m,\u001b[49m\n\u001b[0;32m   2010\u001b[0m \u001b[43m        \u001b[49m\u001b[43mpreserve_dtypes\u001b[49m\u001b[38;5;241;43m=\u001b[39;49m\u001b[43mpreserve_dtypes\u001b[49m\u001b[43m,\u001b[49m\n\u001b[0;32m   2011\u001b[0m \u001b[43m        \u001b[49m\u001b[43mcolumns\u001b[49m\u001b[38;5;241;43m=\u001b[39;49m\u001b[43mcolumns\u001b[49m\u001b[43m,\u001b[49m\n\u001b[0;32m   2012\u001b[0m \u001b[43m        \u001b[49m\u001b[43morder_categoricals\u001b[49m\u001b[38;5;241;43m=\u001b[39;49m\u001b[43morder_categoricals\u001b[49m\u001b[43m,\u001b[49m\n\u001b[0;32m   2013\u001b[0m \u001b[43m        \u001b[49m\u001b[43mchunksize\u001b[49m\u001b[38;5;241;43m=\u001b[39;49m\u001b[43mchunksize\u001b[49m\u001b[43m,\u001b[49m\n\u001b[0;32m   2014\u001b[0m \u001b[43m        \u001b[49m\u001b[43mstorage_options\u001b[49m\u001b[38;5;241;43m=\u001b[39;49m\u001b[43mstorage_options\u001b[49m\u001b[43m,\u001b[49m\n\u001b[0;32m   2015\u001b[0m \u001b[43m        \u001b[49m\u001b[43mcompression\u001b[49m\u001b[38;5;241;43m=\u001b[39;49m\u001b[43mcompression\u001b[49m\u001b[43m,\u001b[49m\n\u001b[0;32m   2016\u001b[0m \u001b[43m    \u001b[49m\u001b[43m)\u001b[49m\n\u001b[0;32m   2018\u001b[0m     \u001b[38;5;28;01mif\u001b[39;00m iterator \u001b[38;5;129;01mor\u001b[39;00m chunksize:\n\u001b[0;32m   2019\u001b[0m         \u001b[38;5;28;01mreturn\u001b[39;00m reader\n",
      "File \u001b[1;32m~\\anaconda3\\lib\\site-packages\\pandas\\io\\stata.py:1161\u001b[0m, in \u001b[0;36mStataReader.__init__\u001b[1;34m(self, path_or_buf, convert_dates, convert_categoricals, index_col, convert_missing, preserve_dtypes, columns, order_categoricals, chunksize, compression, storage_options)\u001b[0m\n\u001b[0;32m   1151\u001b[0m \u001b[38;5;28;01mwith\u001b[39;00m get_handle(\n\u001b[0;32m   1152\u001b[0m     path_or_buf,\n\u001b[0;32m   1153\u001b[0m     \u001b[38;5;124m\"\u001b[39m\u001b[38;5;124mrb\u001b[39m\u001b[38;5;124m\"\u001b[39m,\n\u001b[1;32m   (...)\u001b[0m\n\u001b[0;32m   1157\u001b[0m ) \u001b[38;5;28;01mas\u001b[39;00m handles:\n\u001b[0;32m   1158\u001b[0m     \u001b[38;5;66;03m# Copy to BytesIO, and ensure no encoding\u001b[39;00m\n\u001b[0;32m   1159\u001b[0m     \u001b[38;5;28mself\u001b[39m\u001b[38;5;241m.\u001b[39mpath_or_buf \u001b[38;5;241m=\u001b[39m BytesIO(handles\u001b[38;5;241m.\u001b[39mhandle\u001b[38;5;241m.\u001b[39mread())\n\u001b[1;32m-> 1161\u001b[0m \u001b[38;5;28;43mself\u001b[39;49m\u001b[38;5;241;43m.\u001b[39;49m\u001b[43m_read_header\u001b[49m\u001b[43m(\u001b[49m\u001b[43m)\u001b[49m\n\u001b[0;32m   1162\u001b[0m \u001b[38;5;28mself\u001b[39m\u001b[38;5;241m.\u001b[39m_setup_dtype()\n",
      "File \u001b[1;32m~\\anaconda3\\lib\\site-packages\\pandas\\io\\stata.py:1190\u001b[0m, in \u001b[0;36mStataReader._read_header\u001b[1;34m(self)\u001b[0m\n\u001b[0;32m   1188\u001b[0m     \u001b[38;5;28mself\u001b[39m\u001b[38;5;241m.\u001b[39m_read_new_header()\n\u001b[0;32m   1189\u001b[0m \u001b[38;5;28;01melse\u001b[39;00m:\n\u001b[1;32m-> 1190\u001b[0m     \u001b[38;5;28;43mself\u001b[39;49m\u001b[38;5;241;43m.\u001b[39;49m\u001b[43m_read_old_header\u001b[49m\u001b[43m(\u001b[49m\u001b[43mfirst_char\u001b[49m\u001b[43m)\u001b[49m\n\u001b[0;32m   1192\u001b[0m \u001b[38;5;28mself\u001b[39m\u001b[38;5;241m.\u001b[39mhas_string_data \u001b[38;5;241m=\u001b[39m \u001b[38;5;28mlen\u001b[39m([x \u001b[38;5;28;01mfor\u001b[39;00m x \u001b[38;5;129;01min\u001b[39;00m \u001b[38;5;28mself\u001b[39m\u001b[38;5;241m.\u001b[39mtyplist \u001b[38;5;28;01mif\u001b[39;00m \u001b[38;5;28mtype\u001b[39m(x) \u001b[38;5;129;01mis\u001b[39;00m \u001b[38;5;28mint\u001b[39m]) \u001b[38;5;241m>\u001b[39m \u001b[38;5;241m0\u001b[39m\n\u001b[0;32m   1194\u001b[0m \u001b[38;5;66;03m# calculate size of a data record\u001b[39;00m\n",
      "File \u001b[1;32m~\\anaconda3\\lib\\site-packages\\pandas\\io\\stata.py:1396\u001b[0m, in \u001b[0;36mStataReader._read_old_header\u001b[1;34m(self, first_char)\u001b[0m\n\u001b[0;32m   1394\u001b[0m \u001b[38;5;28mself\u001b[39m\u001b[38;5;241m.\u001b[39mformat_version \u001b[38;5;241m=\u001b[39m struct\u001b[38;5;241m.\u001b[39munpack(\u001b[38;5;124m\"\u001b[39m\u001b[38;5;124mb\u001b[39m\u001b[38;5;124m\"\u001b[39m, first_char)[\u001b[38;5;241m0\u001b[39m]\n\u001b[0;32m   1395\u001b[0m \u001b[38;5;28;01mif\u001b[39;00m \u001b[38;5;28mself\u001b[39m\u001b[38;5;241m.\u001b[39mformat_version \u001b[38;5;129;01mnot\u001b[39;00m \u001b[38;5;129;01min\u001b[39;00m [\u001b[38;5;241m104\u001b[39m, \u001b[38;5;241m105\u001b[39m, \u001b[38;5;241m108\u001b[39m, \u001b[38;5;241m111\u001b[39m, \u001b[38;5;241m113\u001b[39m, \u001b[38;5;241m114\u001b[39m, \u001b[38;5;241m115\u001b[39m]:\n\u001b[1;32m-> 1396\u001b[0m     \u001b[38;5;28;01mraise\u001b[39;00m \u001b[38;5;167;01mValueError\u001b[39;00m(_version_error\u001b[38;5;241m.\u001b[39mformat(version\u001b[38;5;241m=\u001b[39m\u001b[38;5;28mself\u001b[39m\u001b[38;5;241m.\u001b[39mformat_version))\n\u001b[0;32m   1397\u001b[0m \u001b[38;5;28mself\u001b[39m\u001b[38;5;241m.\u001b[39m_set_encoding()\n\u001b[0;32m   1398\u001b[0m \u001b[38;5;28mself\u001b[39m\u001b[38;5;241m.\u001b[39mbyteorder \u001b[38;5;241m=\u001b[39m (\n\u001b[0;32m   1399\u001b[0m     struct\u001b[38;5;241m.\u001b[39munpack(\u001b[38;5;124m\"\u001b[39m\u001b[38;5;124mb\u001b[39m\u001b[38;5;124m\"\u001b[39m, \u001b[38;5;28mself\u001b[39m\u001b[38;5;241m.\u001b[39mpath_or_buf\u001b[38;5;241m.\u001b[39mread(\u001b[38;5;241m1\u001b[39m))[\u001b[38;5;241m0\u001b[39m] \u001b[38;5;241m==\u001b[39m \u001b[38;5;241m0x1\u001b[39m \u001b[38;5;129;01mand\u001b[39;00m \u001b[38;5;124m\"\u001b[39m\u001b[38;5;124m>\u001b[39m\u001b[38;5;124m\"\u001b[39m \u001b[38;5;129;01mor\u001b[39;00m \u001b[38;5;124m\"\u001b[39m\u001b[38;5;124m<\u001b[39m\u001b[38;5;124m\"\u001b[39m\n\u001b[0;32m   1400\u001b[0m )\n",
      "\u001b[1;31mValueError\u001b[0m: Version of given Stata file is 69. pandas supports importing versions 105, 108, 111 (Stata 7SE), 113 (Stata 8/9), 114 (Stata 10/11), 115 (Stata 12), 117 (Stata 13), 118 (Stata 14/15/16),and 119 (Stata 15/16, over 32,767 variables)."
     ]
    }
   ],
   "source": [
    "df = pd.read_stata('CHARGE_#1.dta')\n",
    "print(df.head())"
   ]
  },
  {
   "cell_type": "code",
   "execution_count": 6,
   "id": "564f935c-26d5-4297-8cd8-33b8fc686112",
   "metadata": {},
   "outputs": [
    {
     "name": "stdout",
     "output_type": "stream",
     "text": [
      "Requirement already satisfied: pyreadstat in c:\\users\\schuy\\miniconda3\\lib\\site-packages (1.2.7)\n",
      "Requirement already satisfied: pandas>=1.2.0 in c:\\users\\schuy\\miniconda3\\lib\\site-packages (from pyreadstat) (2.1.1)\n",
      "Requirement already satisfied: python-dateutil>=2.8.2 in c:\\users\\schuy\\miniconda3\\lib\\site-packages (from pandas>=1.2.0->pyreadstat) (2.8.2)\n",
      "Requirement already satisfied: tzdata>=2022.1 in c:\\users\\schuy\\miniconda3\\lib\\site-packages (from pandas>=1.2.0->pyreadstat) (2023.3)\n",
      "Requirement already satisfied: pytz>=2020.1 in c:\\users\\schuy\\miniconda3\\lib\\site-packages (from pandas>=1.2.0->pyreadstat) (2022.2.1)\n",
      "Requirement already satisfied: numpy>=1.22.4 in c:\\users\\schuy\\miniconda3\\lib\\site-packages (from pandas>=1.2.0->pyreadstat) (1.23.1)\n",
      "Requirement already satisfied: six>=1.5 in c:\\users\\schuy\\miniconda3\\lib\\site-packages (from python-dateutil>=2.8.2->pandas>=1.2.0->pyreadstat) (1.16.0)\n"
     ]
    },
    {
     "ename": "ReadstatError",
     "evalue": "This version of the file format is not supported",
     "output_type": "error",
     "traceback": [
      "\u001b[1;31m---------------------------------------------------------------------------\u001b[0m",
      "\u001b[1;31mReadstatError\u001b[0m                             Traceback (most recent call last)",
      "Input \u001b[1;32mIn [6]\u001b[0m, in \u001b[0;36m<cell line: 5>\u001b[1;34m()\u001b[0m\n\u001b[0;32m      2\u001b[0m \u001b[38;5;28;01mimport\u001b[39;00m \u001b[38;5;21;01mpyreadstat\u001b[39;00m\n\u001b[0;32m      4\u001b[0m \u001b[38;5;66;03m# Replace 'your_file.dta' with your actual file path\u001b[39;00m\n\u001b[1;32m----> 5\u001b[0m df, meta \u001b[38;5;241m=\u001b[39m \u001b[43mpyreadstat\u001b[49m\u001b[38;5;241;43m.\u001b[39;49m\u001b[43mread_dta\u001b[49m\u001b[43m(\u001b[49m\u001b[38;5;124;43m'\u001b[39;49m\u001b[38;5;124;43mCHARGE_#1.dta\u001b[39;49m\u001b[38;5;124;43m'\u001b[39;49m\u001b[43m)\u001b[49m\n\u001b[0;32m      7\u001b[0m \u001b[38;5;66;03m# Now 'df' is a pandas DataFrame containing the data from the DTA file\u001b[39;00m\n\u001b[0;32m      8\u001b[0m \u001b[38;5;28mprint\u001b[39m(df\u001b[38;5;241m.\u001b[39mhead())\n",
      "File \u001b[1;32mpyreadstat\\\\pyreadstat.pyx:296\u001b[0m, in \u001b[0;36mpyreadstat.pyreadstat.read_dta\u001b[1;34m()\u001b[0m\n",
      "File \u001b[1;32mpyreadstat\\\\_readstat_parser.pyx:1137\u001b[0m, in \u001b[0;36mpyreadstat._readstat_parser.run_conversion\u001b[1;34m()\u001b[0m\n",
      "File \u001b[1;32mpyreadstat\\\\_readstat_parser.pyx:882\u001b[0m, in \u001b[0;36mpyreadstat._readstat_parser.run_readstat_parser\u001b[1;34m()\u001b[0m\n",
      "File \u001b[1;32mpyreadstat\\\\_readstat_parser.pyx:804\u001b[0m, in \u001b[0;36mpyreadstat._readstat_parser.check_exit_status\u001b[1;34m()\u001b[0m\n",
      "\u001b[1;31mReadstatError\u001b[0m: This version of the file format is not supported"
     ]
    }
   ],
   "source": [
    "#!pip install pyreadstat\n",
    "import pyreadstat\n",
    "\n",
    "# Replace 'your_file.dta' with your actual file path\n",
    "df, meta = pyreadstat.read_dta('CHARGE_#1.dta')\n",
    "\n",
    "# Now 'df' is a pandas DataFrame containing the data from the DTA file\n",
    "print(df.head())\n"
   ]
  },
  {
   "cell_type": "code",
   "execution_count": 6,
   "id": "a395e0ed-c857-4cb8-9d55-ffa650150d93",
   "metadata": {},
   "outputs": [
    {
     "name": "stdout",
     "output_type": "stream",
     "text": [
      "Collecting gamry-parser\n",
      "  Downloading gamry_parser-0.4.6-py3-none-any.whl (19 kB)\n",
      "Requirement already satisfied: pandas in c:\\users\\schuy\\anaconda3\\lib\\site-packages (from gamry-parser) (1.4.2)\n",
      "Requirement already satisfied: python-dateutil>=2.8.1 in c:\\users\\schuy\\anaconda3\\lib\\site-packages (from pandas->gamry-parser) (2.8.2)\n",
      "Requirement already satisfied: pytz>=2020.1 in c:\\users\\schuy\\anaconda3\\lib\\site-packages (from pandas->gamry-parser) (2021.3)\n",
      "Requirement already satisfied: numpy>=1.18.5 in c:\\users\\schuy\\anaconda3\\lib\\site-packages (from pandas->gamry-parser) (1.21.5)\n",
      "Requirement already satisfied: six>=1.5 in c:\\users\\schuy\\anaconda3\\lib\\site-packages (from python-dateutil>=2.8.1->pandas->gamry-parser) (1.16.0)\n",
      "Installing collected packages: gamry-parser\n",
      "Successfully installed gamry-parser-0.4.6\n"
     ]
    }
   ],
   "source": [
    "! pip install gamry-parser"
   ]
  },
  {
   "cell_type": "code",
   "execution_count": 39,
   "id": "ba07e60a-a993-4a35-8a3b-366c7636c8b9",
   "metadata": {},
   "outputs": [
    {
     "ename": "ValueError",
     "evalue": "could not convert string to float: 'QUANT'",
     "output_type": "error",
     "traceback": [
      "\u001b[1;31m---------------------------------------------------------------------------\u001b[0m",
      "\u001b[1;31mValueError\u001b[0m                                Traceback (most recent call last)",
      "Input \u001b[1;32mIn [39]\u001b[0m, in \u001b[0;36m<cell line: 7>\u001b[1;34m()\u001b[0m\n\u001b[0;32m      5\u001b[0m gp \u001b[38;5;241m=\u001b[39m parser\u001b[38;5;241m.\u001b[39mGamryParser()\n\u001b[0;32m      6\u001b[0m \u001b[38;5;66;03m# parser.GamryParser.load()\u001b[39;00m\n\u001b[1;32m----> 7\u001b[0m \u001b[43mgp\u001b[49m\u001b[38;5;241;43m.\u001b[39;49m\u001b[43mload\u001b[49m\u001b[43m(\u001b[49m\u001b[43mfilename\u001b[49m\u001b[43m \u001b[49m\u001b[38;5;241;43m=\u001b[39;49m\u001b[43m \u001b[49m\u001b[43mfile\u001b[49m\u001b[43m)\u001b[49m\n\u001b[0;32m      8\u001b[0m \u001b[38;5;28mprint\u001b[39m(gp)\n",
      "File \u001b[1;32m~\\anaconda3\\lib\\site-packages\\gamry_parser\\gamryparser.py:78\u001b[0m, in \u001b[0;36mGamryParser.load\u001b[1;34m(self, filename, to_timestamp)\u001b[0m\n\u001b[0;32m     73\u001b[0m \u001b[38;5;28;01massert\u001b[39;00m os\u001b[38;5;241m.\u001b[39mpath\u001b[38;5;241m.\u001b[39mexists(\u001b[38;5;28mself\u001b[39m\u001b[38;5;241m.\u001b[39mfname), \u001b[38;5;124m\"\u001b[39m\u001b[38;5;124mThe file \u001b[39m\u001b[38;5;124m'\u001b[39m\u001b[38;5;132;01m{}\u001b[39;00m\u001b[38;5;124m'\u001b[39m\u001b[38;5;124m was not found.\u001b[39m\u001b[38;5;124m\"\u001b[39m\u001b[38;5;241m.\u001b[39mformat(\n\u001b[0;32m     74\u001b[0m     \u001b[38;5;28mself\u001b[39m\u001b[38;5;241m.\u001b[39mfname\n\u001b[0;32m     75\u001b[0m )\n\u001b[0;32m     77\u001b[0m \u001b[38;5;28mself\u001b[39m\u001b[38;5;241m.\u001b[39mread_header()\n\u001b[1;32m---> 78\u001b[0m \u001b[38;5;28;43mself\u001b[39;49m\u001b[38;5;241;43m.\u001b[39;49m\u001b[43mread_curves\u001b[49m\u001b[43m(\u001b[49m\u001b[43m)\u001b[49m\n\u001b[0;32m     79\u001b[0m \u001b[38;5;28;01mif\u001b[39;00m \u001b[38;5;28mself\u001b[39m\u001b[38;5;241m.\u001b[39mto_timestamp:\n\u001b[0;32m     80\u001b[0m     \u001b[38;5;28mself\u001b[39m\u001b[38;5;241m.\u001b[39m_convert_T_to_Timestamp()\n",
      "File \u001b[1;32m~\\anaconda3\\lib\\site-packages\\gamry_parser\\gamryparser.py:303\u001b[0m, in \u001b[0;36mGamryParser.read_curves\u001b[1;34m(self)\u001b[0m\n\u001b[0;32m    301\u001b[0m     \u001b[38;5;28;01melse\u001b[39;00m:\n\u001b[0;32m    302\u001b[0m         \u001b[38;5;28;01mif\u001b[39;00m \u001b[38;5;129;01mnot\u001b[39;00m is_numeric_dtype(curve[key]):\n\u001b[1;32m--> 303\u001b[0m             curve[key] \u001b[38;5;241m=\u001b[39m \u001b[43mcurve\u001b[49m\u001b[43m[\u001b[49m\u001b[43mkey\u001b[49m\u001b[43m]\u001b[49m\u001b[38;5;241;43m.\u001b[39;49m\u001b[43mmap\u001b[49m\u001b[43m(\u001b[49m\u001b[43mlocale\u001b[49m\u001b[38;5;241;43m.\u001b[39;49m\u001b[43matof\u001b[49m\u001b[43m)\u001b[49m\n\u001b[0;32m    305\u001b[0m \u001b[38;5;28;01mif\u001b[39;00m \u001b[38;5;129;01mnot\u001b[39;00m \u001b[38;5;28mbool\u001b[39m(\u001b[38;5;28mself\u001b[39m\u001b[38;5;241m.\u001b[39mcurve_units\u001b[38;5;241m.\u001b[39mitems()):\n\u001b[0;32m    306\u001b[0m     exp_type \u001b[38;5;241m=\u001b[39m \u001b[38;5;28mself\u001b[39m\u001b[38;5;241m.\u001b[39mheader[\u001b[38;5;124m\"\u001b[39m\u001b[38;5;124mTAG\u001b[39m\u001b[38;5;124m\"\u001b[39m]\n",
      "File \u001b[1;32m~\\anaconda3\\lib\\site-packages\\pandas\\core\\series.py:4237\u001b[0m, in \u001b[0;36mSeries.map\u001b[1;34m(self, arg, na_action)\u001b[0m\n\u001b[0;32m   4162\u001b[0m \u001b[38;5;28;01mdef\u001b[39;00m \u001b[38;5;21mmap\u001b[39m(\u001b[38;5;28mself\u001b[39m, arg, na_action\u001b[38;5;241m=\u001b[39m\u001b[38;5;28;01mNone\u001b[39;00m) \u001b[38;5;241m-\u001b[39m\u001b[38;5;241m>\u001b[39m Series:\n\u001b[0;32m   4163\u001b[0m     \u001b[38;5;124;03m\"\"\"\u001b[39;00m\n\u001b[0;32m   4164\u001b[0m \u001b[38;5;124;03m    Map values of Series according to an input mapping or function.\u001b[39;00m\n\u001b[0;32m   4165\u001b[0m \n\u001b[1;32m   (...)\u001b[0m\n\u001b[0;32m   4235\u001b[0m \u001b[38;5;124;03m    dtype: object\u001b[39;00m\n\u001b[0;32m   4236\u001b[0m \u001b[38;5;124;03m    \"\"\"\u001b[39;00m\n\u001b[1;32m-> 4237\u001b[0m     new_values \u001b[38;5;241m=\u001b[39m \u001b[38;5;28;43mself\u001b[39;49m\u001b[38;5;241;43m.\u001b[39;49m\u001b[43m_map_values\u001b[49m\u001b[43m(\u001b[49m\u001b[43marg\u001b[49m\u001b[43m,\u001b[49m\u001b[43m \u001b[49m\u001b[43mna_action\u001b[49m\u001b[38;5;241;43m=\u001b[39;49m\u001b[43mna_action\u001b[49m\u001b[43m)\u001b[49m\n\u001b[0;32m   4238\u001b[0m     \u001b[38;5;28;01mreturn\u001b[39;00m \u001b[38;5;28mself\u001b[39m\u001b[38;5;241m.\u001b[39m_constructor(new_values, index\u001b[38;5;241m=\u001b[39m\u001b[38;5;28mself\u001b[39m\u001b[38;5;241m.\u001b[39mindex)\u001b[38;5;241m.\u001b[39m__finalize__(\n\u001b[0;32m   4239\u001b[0m         \u001b[38;5;28mself\u001b[39m, method\u001b[38;5;241m=\u001b[39m\u001b[38;5;124m\"\u001b[39m\u001b[38;5;124mmap\u001b[39m\u001b[38;5;124m\"\u001b[39m\n\u001b[0;32m   4240\u001b[0m     )\n",
      "File \u001b[1;32m~\\anaconda3\\lib\\site-packages\\pandas\\core\\base.py:880\u001b[0m, in \u001b[0;36mIndexOpsMixin._map_values\u001b[1;34m(self, mapper, na_action)\u001b[0m\n\u001b[0;32m    877\u001b[0m         \u001b[38;5;28;01mraise\u001b[39;00m \u001b[38;5;167;01mValueError\u001b[39;00m(msg)\n\u001b[0;32m    879\u001b[0m \u001b[38;5;66;03m# mapper is a function\u001b[39;00m\n\u001b[1;32m--> 880\u001b[0m new_values \u001b[38;5;241m=\u001b[39m \u001b[43mmap_f\u001b[49m\u001b[43m(\u001b[49m\u001b[43mvalues\u001b[49m\u001b[43m,\u001b[49m\u001b[43m \u001b[49m\u001b[43mmapper\u001b[49m\u001b[43m)\u001b[49m\n\u001b[0;32m    882\u001b[0m \u001b[38;5;28;01mreturn\u001b[39;00m new_values\n",
      "File \u001b[1;32m~\\anaconda3\\lib\\site-packages\\pandas\\_libs\\lib.pyx:2870\u001b[0m, in \u001b[0;36mpandas._libs.lib.map_infer\u001b[1;34m()\u001b[0m\n",
      "File \u001b[1;32m~\\anaconda3\\lib\\locale.py:328\u001b[0m, in \u001b[0;36matof\u001b[1;34m(string, func)\u001b[0m\n\u001b[0;32m    326\u001b[0m \u001b[38;5;28;01mdef\u001b[39;00m \u001b[38;5;21matof\u001b[39m(string, func\u001b[38;5;241m=\u001b[39m\u001b[38;5;28mfloat\u001b[39m):\n\u001b[0;32m    327\u001b[0m     \u001b[38;5;124m\"\u001b[39m\u001b[38;5;124mParses a string as a float according to the locale settings.\u001b[39m\u001b[38;5;124m\"\u001b[39m\n\u001b[1;32m--> 328\u001b[0m     \u001b[38;5;28;01mreturn\u001b[39;00m \u001b[43mfunc\u001b[49m\u001b[43m(\u001b[49m\u001b[43mdelocalize\u001b[49m\u001b[43m(\u001b[49m\u001b[43mstring\u001b[49m\u001b[43m)\u001b[49m\u001b[43m)\u001b[49m\n",
      "\u001b[1;31mValueError\u001b[0m: could not convert string to float: 'QUANT'"
     ]
    }
   ],
   "source": [
    "import gamry_parser as parser\n",
    "import random\n",
    "\n",
    "file = \"DISCHARGE_1.DTA\"\n",
    "gp = parser.GamryParser()\n",
    "# parser.GamryParser.load()\n",
    "gp.load(filename = file)\n",
    "print(gp)\n",
    "\n",
    "# gp.get_curves()\n",
    "\n",
    "# print(\"experiment type: {}\".format(gp.get_experiment_type()))\n",
    "# print(\"loaded curves: {}\".format(gp.get_curve_count()))\n",
    "\n",
    "# curve_index = random.randint(1, gp.get_curve_count())\n",
    "# print(\"showing curve #{}\".format(curve_index))\n",
    "# print(gp.get_curve_data(curve_index))\n"
   ]
  },
  {
   "cell_type": "code",
   "execution_count": 20,
   "id": "6ca8c072-347a-4c7b-a364-7b8d9b66d475",
   "metadata": {},
   "outputs": [
    {
     "name": "stdout",
     "output_type": "stream",
     "text": [
      "Help on module gamry_parser.gamryparser in gamry_parser:\n",
      "\n",
      "NAME\n",
      "    gamry_parser.gamryparser\n",
      "\n",
      "CLASSES\n",
      "    builtins.object\n",
      "        GamryParser\n",
      "    \n",
      "    class GamryParser(builtins.object)\n",
      "     |  GamryParser(filename: str = None, to_timestamp: bool = None)\n",
      "     |  \n",
      "     |  Load experiment data generated in Gamry EXPLAIN format.\n",
      "     |  \n",
      "     |  Methods defined here:\n",
      "     |  \n",
      "     |  __init__(self, filename: str = None, to_timestamp: bool = None)\n",
      "     |      GamryParser.__init__\n",
      "     |      \n",
      "     |      Args:\n",
      "     |          filename (str, optional): filepath to experiment data. Defaults to None\n",
      "     |          to_timestamp (bool, optional): Convert sample times from elapsed seconds to pandas.Timestamp(). Defaults to False\n",
      "     |      \n",
      "     |      Returns:\n",
      "     |          None\n",
      "     |  \n",
      "     |  get_curve_count(self) -> int\n",
      "     |      return the number of loaded curves\n",
      "     |  \n",
      "     |  get_curve_data(self, curve: int = 0) -> pandas.core.frame.DataFrame\n",
      "     |      retrieve relevant experimental data\n",
      "     |      \n",
      "     |      Args:\n",
      "     |          curve (int, optional): curve number to return. Defaults to 0.\n",
      "     |      \n",
      "     |      Returns:\n",
      "     |          pandas.DataFrame: (multiple columns)\n",
      "     |  \n",
      "     |  get_curve_indices(self) -> tuple\n",
      "     |      return indices of curves (zero-based indexing)\n",
      "     |  \n",
      "     |  get_curve_numbers(self) -> tuple\n",
      "     |      return Gamry curve numbers (one-based indexing, as in Gamry software)\n",
      "     |  \n",
      "     |  get_curves(self) -> list\n",
      "     |      return all loaded curves as a list of pandas DataFrames\n",
      "     |  \n",
      "     |  get_experiment_type(self) -> str\n",
      "     |      retrieve the type of experiment that was loaded (TAG)\n",
      "     |      \n",
      "     |      Args:\n",
      "     |          None\n",
      "     |      Returns:\n",
      "     |          str: Experiment Type (EXPLAIN-TAG)\n",
      "     |  \n",
      "     |  get_header(self) -> list\n",
      "     |      return the experiment configuration dictionary\n",
      "     |  \n",
      "     |  get_ocv_curve(self) -> pandas.core.frame.DataFrame\n",
      "     |      return the contents of OCVCURVE (if it exists). Deprecated in Framework version 7\n",
      "     |  \n",
      "     |  get_ocv_value(self)\n",
      "     |      return the final OCV measurement of the experiment (if it exists)\n",
      "     |  \n",
      "     |  load(self, filename: str = None, to_timestamp: bool = None)\n",
      "     |      save experiment information to \"header\", then save curve data to \"curves\"\n",
      "     |      \n",
      "     |      Args:\n",
      "     |          filename (str, optional): file containing EXPLAIN-formatted data. defaults to None.\n",
      "     |      Returns:\n",
      "     |          None\n",
      "     |  \n",
      "     |  read_curve_data(self, fid: int) -> tuple\n",
      "     |      helper function to process an EXPLAIN Table\n",
      "     |      \n",
      "     |      Args:\n",
      "     |          fid (int): a file handle pointer to the table position in the data files\n",
      "     |      Returns:\n",
      "     |          keys (list): column identifier (e.g. Vf)\n",
      "     |          units (list): column unit type (e.g. V)\n",
      "     |          curve (DataFrame): Table data saved as a pandas Dataframe\n",
      "     |  \n",
      "     |  read_curves(self) -> list\n",
      "     |      helper function to iterate through curves in a dta file and save as individual dataframes\n",
      "     |      \n",
      "     |      Args:\n",
      "     |          None\n",
      "     |      Returns:\n",
      "     |          curves (list): list of DataFrames, each element representing an individual curve of experimental data.\n",
      "     |  \n",
      "     |  read_header(self) -> list\n",
      "     |      helper function to grab data from the EXPLAIN file header, which contains the loaded experiment's configuration\n",
      "     |      \n",
      "     |      Args:\n",
      "     |          None\n",
      "     |      Returns:\n",
      "     |          header (dict): experimental header data in key-value pairs.\n",
      "     |          length (int): length of header text, in # of bytes\n",
      "     |  \n",
      "     |  ----------------------------------------------------------------------\n",
      "     |  Data descriptors defined here:\n",
      "     |  \n",
      "     |  __dict__\n",
      "     |      dictionary for instance variables (if defined)\n",
      "     |  \n",
      "     |  __weakref__\n",
      "     |      list of weak references to the object (if defined)\n",
      "     |  \n",
      "     |  ----------------------------------------------------------------------\n",
      "     |  Data and other attributes defined here:\n",
      "     |  \n",
      "     |  REQUIRED_UNITS = {'CV': {'Im': 'A', 'Vf': 'V vs. Ref.'}}\n",
      "     |  \n",
      "     |  __annotations__ = {'REQUIRED_UNITS': <class 'dict'>, 'curve_count': <c...\n",
      "     |  \n",
      "     |  curve_count = 0\n",
      "     |  \n",
      "     |  curve_units = {}\n",
      "     |  \n",
      "     |  curves = []\n",
      "     |  \n",
      "     |  fname = None\n",
      "     |  \n",
      "     |  header = None\n",
      "     |  \n",
      "     |  header_length = 0\n",
      "     |  \n",
      "     |  loaded = False\n",
      "     |  \n",
      "     |  ocv = None\n",
      "     |  \n",
      "     |  ocv_exists = False\n",
      "     |  \n",
      "     |  to_timestamp = False\n",
      "\n",
      "FILE\n",
      "    c:\\users\\schuy\\anaconda3\\lib\\site-packages\\gamry_parser\\gamryparser.py\n",
      "\n",
      "\n"
     ]
    }
   ],
   "source": [
    "help(parser.gamryparser)"
   ]
  },
  {
   "cell_type": "code",
   "execution_count": null,
   "id": "87f50551-3db6-4f93-b5c3-ae16f208bc8e",
   "metadata": {},
   "outputs": [],
   "source": []
  }
 ],
 "metadata": {
  "kernelspec": {
   "display_name": "Python [conda env:anaconda3]",
   "language": "python",
   "name": "conda-env-anaconda3-py"
  },
  "language_info": {
   "codemirror_mode": {
    "name": "ipython",
    "version": 3
   },
   "file_extension": ".py",
   "mimetype": "text/x-python",
   "name": "python",
   "nbconvert_exporter": "python",
   "pygments_lexer": "ipython3",
   "version": "3.9.12"
  }
 },
 "nbformat": 4,
 "nbformat_minor": 5
}
