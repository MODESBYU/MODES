{
 "cells": [
  {
   "cell_type": "code",
   "execution_count": 3,
   "id": "57afa919-854e-4790-b2ae-bf596e674cbe",
   "metadata": {},
   "outputs": [],
   "source": [
    "import pandas as pd\n",
    "import numpy as np\n",
    "import matplotlib.pyplot as plt\n",
    "import csv\n",
    "from array import *\n",
    "%matplotlib inline\n",
    "import os"
   ]
  },
  {
   "cell_type": "code",
   "execution_count": 5,
   "id": "244e338e-ea46-482c-82b1-1003c68e26e1",
   "metadata": {},
   "outputs": [],
   "source": [
    "current_path = os.getcwd()\n",
    "parent_directory = os.path.dirname(os.path.dirname(current_path))\n",
    "\n",
    "folders = parent_directory+\"\\\\Electrolyte_Calibration\\\\\"\n",
    "folder2 = parent_directory+\"\\\\Lydia_data\\\\Battery_Data\\\\\""
   ]
  },
  {
   "cell_type": "code",
   "execution_count": 6,
   "id": "5bd7000f-1144-42e5-baa1-2cca11471ef1",
   "metadata": {},
   "outputs": [],
   "source": [
    "#Load sheets in\n",
    "Molarity = np.array(pd.read_csv(folder2+\"spectral_database_battery_elytes_molarity.csv\"))\n",
    "Time = pd.read_csv(folder2+'spectral_data_battery_test_time.csv',header = None).T\n",
    "Absorb = np.array(pd.read_csv(folder2+\"spectral_data_battery_test_absorbance.csv\"))\n",
    "CV = np.array(pd.read_csv(folder2+\"CV_data.csv\"))"
   ]
  },
  {
   "cell_type": "code",
   "execution_count": null,
   "id": "589037af-5535-4ff2-b7b3-22678b3caf9c",
   "metadata": {},
   "outputs": [],
   "source": [
    "plt.figure(figsize=(20,6))\n",
    "plt.plot(Molarity[:,0],Molarity[:,1],label=\"0M\")\n",
    "plt.plot(Molarity[:,0],Molarity[:,2],label=\"0.6M\")\n",
    "plt.plot(Molarity[:,0],Molarity[:,3],label=\"0.8M\")\n",
    "plt.plot(Molarity[:,0],Molarity[:,4],label=\"1M\")\n",
    "plt.plot(Molarity[:,0],Molarity[:,5],label=\"1.2M\")\n",
    "plt.plot(Molarity[:,0],Molarity[:,6],label=\"1.4M\")\n",
    "plt.plot(Molarity[:,0],Molarity[:,7],label=\"1.8M\")\n",
    "plt.legend()\n",
    "plt.xlabel(\"Wavenumber\")\n",
    "plt.ylabel(\"Absorbance (M)\")\n",
    "plt.title(\"Calibration Spectra\")\n",
    "plt.xlim(400,2000)"
   ]
  },
  {
   "cell_type": "code",
   "execution_count": null,
   "id": "0946b789-ffe0-4e7b-b296-e2527f7376a7",
   "metadata": {},
   "outputs": [],
   "source": [
    "fig, ax1 = plt.subplots()\n",
    "ax2 = ax1.twinx()\n",
    "ax1.plot(CV[:,0]/3600,CV[:,1]) #Voltage plot\n",
    "ax2.plot(CV[:,0]/3600,CV[:,2]*1000, color = 'orange') #Current plot\n",
    "ax1.set_xlabel(\"Time (hr)\")\n",
    "ax1.set_ylabel(\"Potential (V)\")\n",
    "ax2.set_ylabel(\"Current (mA)\")\n",
    "ax1.set_title(\"Voltage and Current\")\n",
    "ax1.legend([\"Potential\"])\n",
    "ax2.legend([\"Current\"])\n",
    "#plt.xlim(6.65,7)"
   ]
  },
  {
   "cell_type": "code",
   "execution_count": null,
   "id": "0a854011-07dc-4921-b847-78efcdbe48cc",
   "metadata": {},
   "outputs": [],
   "source": [
    "#for i in range(1963):\n",
    "    #plt.plot(Absorb[:,0],Absorb[:,i+1])\n",
    "plt.plot(Absorb[:,0],Absorb[:,slice(1,1964)])\n",
    "plt.xlabel(\"Wavenumber\")\n",
    "plt.ylabel(\"Absorbance (M)\")\n",
    "plt.title(\"Battery Spectra\")\n",
    "plt.xlim(950,1100)"
   ]
  },
  {
   "cell_type": "markdown",
   "id": "2193bb63-8a2a-4757-86b2-7e6534a1e65e",
   "metadata": {},
   "source": [
    "Analyze Current and Voltage Data:"
   ]
  },
  {
   "cell_type": "code",
   "execution_count": null,
   "id": "d535bd33-48c5-4b9d-ba2d-a73921b5bc07",
   "metadata": {},
   "outputs": [],
   "source": [
    "print(\"Charge rate 1 is 2.402 mA\")\n",
    "print(\"Charge rate 2 is 4.808 mA\")\n",
    "print(\"Charge rate 3 is 7.215 mA\")\n",
    "print(\"Discharge rates are all -1.21 mA\")\n",
    "\n",
    "C1 = 2.402*(3513-900.708)/3600\n",
    "C2 = 4.808*(14444.61-13373.35)/3600\n",
    "C3 = 7.215*(24662.6-24144.38)/3600\n",
    "\n",
    "print(\"Capacity of charge period one:\", C1, \"mAh\")\n",
    "print(\"Capacity of charge period two:\", C2, \"mAh\")\n",
    "print(\"Capacity of charge period three:\", C3, \"mAh\")"
   ]
  },
  {
   "cell_type": "markdown",
   "id": "c5bc83d9-10d4-4e85-8612-837864d8851b",
   "metadata": {},
   "source": [
    "Spectral Feature for Diagnostic:\n",
    "Integration of peaks at wavenumber 1000 (980 to 1040)"
   ]
  },
  {
   "cell_type": "code",
   "execution_count": null,
   "id": "8b6d008f-eda8-4048-8901-849444a9d6a3",
   "metadata": {},
   "outputs": [],
   "source": [
    "Cor0 = np.trapz(Molarity[slice(687,812),1])#,Molarity[slice(687,812),0])\n",
    "Cor1 = np.trapz(Molarity[slice(687,812),2],Molarity[slice(687,812),0])\n",
    "Cor2 = np.trapz(Molarity[slice(687,812),3],Molarity[slice(687,812),0])\n",
    "Cor3 = np.trapz(Molarity[slice(687,812),4],Molarity[slice(687,812),0])\n",
    "Cor4 = np.trapz(Molarity[slice(687,812),5],Molarity[slice(687,812),0])\n",
    "Cor5 = np.trapz(Molarity[slice(687,812),6],Molarity[slice(687,812),0])\n",
    "Cor6 = np.trapz(Molarity[slice(687,812),7],Molarity[slice(687,812),0])\n",
    "\n",
    "corx = np.array([0,.6,.8,1,1.2,1.4,1.8])\n",
    "cory = np.array([Cor0,Cor1,Cor2,Cor3,Cor4,Cor5,Cor6])\n",
    "corfit = np.polyfit(corx,cory,1)\n",
    "xx = np.linspace(0,1.8,1000)\n",
    "yy = np.polyval(corfit,xx)\n",
    "plt.plot(corx,cory,'o')\n",
    "plt.plot(xx,yy)\n",
    "plt.xlabel(\"Molarity\")\n",
    "plt.ylabel(\"Integration\")\n",
    "plt.title(\"Diagnostic Curve\")\n",
    "print(corfit)\n",
    "\n",
    "def Diagnostic(y):\n",
    "    M = (y-corfit[1])/corfit[0]\n",
    "    return M"
   ]
  },
  {
   "cell_type": "code",
   "execution_count": null,
   "id": "34dbcec5-8e82-4f6d-820e-c5199cc0d4e5",
   "metadata": {},
   "outputs": [],
   "source": [
    "integ = np.zeros(1963)\n",
    "batmoly = np.zeros(1963)\n",
    "for i in range(1963):\n",
    "    integ[i] = np.trapz(Absorb[slice(687,812),i+1],Absorb[slice(687,812),0])\n",
    "    batmoly[i] = Diagnostic(integ[i])\n",
    "print(integ)\n",
    "fig, ax1 = plt.subplots(figsize=(8,4))\n",
    "ax2 = ax1.twinx()\n",
    "#ax3 = ax1.twinx()\n",
    "batmoly1 = pd.DataFrame(batmoly)\n",
    "ax1.plot(Time/3600,batmoly1, color = 'blue',label=\"Lithium Ion Molarity\")\n",
    "ax2.plot(CV[:,0]/3600,CV[:,1], color=\"orange\",label=\"Voltage\") #Voltage plot\n",
    "#ax3.plot(CV[:,0]/3600,CV[:,2]*1000, color = 'green',label=\"Current\") #Current plot\n",
    "#ax1.set_ylim(2.3,2.65)\n",
    "plt.title(\"Lithium Ion Molarity vs. Time / Voltage vs. Time\")\n",
    "ax2.legend(loc=3)\n",
    "ax1.legend(loc=4)\n",
    "#ax3.legend(loc=1)\n",
    "plt.xlabel(\"Time (hrs)\")\n",
    "ax1.set_ylabel(\"Molarity (M)\")\n",
    "ax2.set_ylabel(\"Voltage (V)\")\n",
    "ax1.set_xlabel(\"Time (hr)\")"
   ]
  },
  {
   "cell_type": "code",
   "execution_count": null,
   "id": "f358d2c5-ff74-4cc2-afbf-0c485d3e52a4",
   "metadata": {},
   "outputs": [],
   "source": [
    "plt.subplot(3,1,1)\n",
    "plt.plot(Time/3600,batmoly1, color = 'blue',label=\"Lithium Ion Molarity\")\n",
    "plt.title(\"Lithium Ion Molarity, Voltage, and Current vs. Time\")\n",
    "plt.ylabel(\"Concentration (M)\")\n",
    "plt.subplot(3,1,2)\n",
    "plt.plot(CV[:,0]/3600,CV[:,1]) #Voltage plot\n",
    "plt.ylabel(\"Voltage (V)\")\n",
    "plt.subplot(3,1,3)\n",
    "plt.plot(CV[:,0]/3600,CV[:,2]*1000, color = 'orange') #Current plot\n",
    "plt.ylabel(\"Current (mA)\")\n",
    "plt.xlabel(\"Time (hr)\")"
   ]
  },
  {
   "cell_type": "code",
   "execution_count": null,
   "id": "d8829118-6c39-4c6d-b9f7-6e77ff8949a9",
   "metadata": {},
   "outputs": [],
   "source": [
    "from sklearn.metrics import r2_score"
   ]
  },
  {
   "cell_type": "code",
   "execution_count": null,
   "id": "091a4ae0-9c49-4810-9bbc-c8b9033b44aa",
   "metadata": {},
   "outputs": [],
   "source": [
    "#R2 Score of Fit\n",
    "f = np.polyval(corfit,corx)\n",
    "r2 = r2_score(cory,f)\n",
    "print(\"R2 of the Diagnostic curve fit is\",r2)\n",
    "\n",
    "#Uncertainty:\n",
    "Av = np.average(cory)\n",
    "Sum = (Av-Cor0)**2+(Av-Cor1)**2+(Av-Cor2)**2+(Av-Cor3)**2+(Av-Cor4)**2+(Av-Cor5)**2+(Av-Cor6)**2\n",
    "Uncertainty = np.sqrt(Sum/42)\n",
    "print(\"Uncertainty is:\",Uncertainty)"
   ]
  },
  {
   "cell_type": "code",
   "execution_count": null,
   "id": "fe0250d3-5e44-4cff-b13a-a4321dadb308",
   "metadata": {},
   "outputs": [],
   "source": []
  }
 ],
 "metadata": {
  "kernelspec": {
   "display_name": "Python 3 (ipykernel)",
   "language": "python",
   "name": "python3"
  },
  "language_info": {
   "codemirror_mode": {
    "name": "ipython",
    "version": 3
   },
   "file_extension": ".py",
   "mimetype": "text/x-python",
   "name": "python",
   "nbconvert_exporter": "python",
   "pygments_lexer": "ipython3",
   "version": "3.9.12"
  }
 },
 "nbformat": 4,
 "nbformat_minor": 5
}
