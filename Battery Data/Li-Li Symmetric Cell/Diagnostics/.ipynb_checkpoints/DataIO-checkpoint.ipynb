{
 "cells": [
  {
   "cell_type": "code",
   "execution_count": 1,
   "id": "f6c21c09-c3f0-42ce-bb2e-6576c1b6ea01",
   "metadata": {},
   "outputs": [
    {
     "ename": "ModuleNotFoundError",
     "evalue": "No module named 'spectrum_class'",
     "output_type": "error",
     "traceback": [
      "\u001b[1;31m---------------------------------------------------------------------------\u001b[0m",
      "\u001b[1;31mModuleNotFoundError\u001b[0m                       Traceback (most recent call last)",
      "Input \u001b[1;32mIn [1]\u001b[0m, in \u001b[0;36m<cell line: 13>\u001b[1;34m()\u001b[0m\n\u001b[0;32m     11\u001b[0m \u001b[38;5;28;01mimport\u001b[39;00m \u001b[38;5;21;01msys\u001b[39;00m\n\u001b[0;32m     12\u001b[0m sys\u001b[38;5;241m.\u001b[39mpath\u001b[38;5;241m.\u001b[39mappend(\u001b[38;5;124m'\u001b[39m\u001b[38;5;130;01m\\\\\u001b[39;00m\u001b[38;5;124mUsers\u001b[39m\u001b[38;5;130;01m\\\\\u001b[39;00m\u001b[38;5;124mschuy\u001b[39m\u001b[38;5;130;01m\\\\\u001b[39;00m\u001b[38;5;124mDesktop\u001b[39m\u001b[38;5;130;01m\\\\\u001b[39;00m\u001b[38;5;124mMODES\u001b[39m\u001b[38;5;130;01m\\\\\u001b[39;00m\u001b[38;5;124mBattery Data\u001b[39m\u001b[38;5;130;01m\\\\\u001b[39;00m\u001b[38;5;124mLi-Li Symmetric Cell\u001b[39m\u001b[38;5;130;01m\\\\\u001b[39;00m\u001b[38;5;124mDiagnostics\u001b[39m\u001b[38;5;130;01m\\\\\u001b[39;00m\u001b[38;5;124mspectrum_class.py\u001b[39m\u001b[38;5;124m'\u001b[39m)\n\u001b[1;32m---> 13\u001b[0m \u001b[38;5;28;01mfrom\u001b[39;00m \u001b[38;5;21;01mspectrum_class\u001b[39;00m \u001b[38;5;28;01mimport\u001b[39;00m Spectrum\n\u001b[0;32m     14\u001b[0m sys\u001b[38;5;241m.\u001b[39mpath\u001b[38;5;241m.\u001b[39mappend(\u001b[38;5;124m'\u001b[39m\u001b[38;5;130;01m\\\\\u001b[39;00m\u001b[38;5;124mUsers\u001b[39m\u001b[38;5;130;01m\\\\\u001b[39;00m\u001b[38;5;124mschuy\u001b[39m\u001b[38;5;130;01m\\\\\u001b[39;00m\u001b[38;5;124mDesktop\u001b[39m\u001b[38;5;130;01m\\\\\u001b[39;00m\u001b[38;5;124mMODES\u001b[39m\u001b[38;5;130;01m\\\\\u001b[39;00m\u001b[38;5;124mBattery Data\u001b[39m\u001b[38;5;130;01m\\\\\u001b[39;00m\u001b[38;5;124mLi-Li Symmetric Cell\u001b[39m\u001b[38;5;130;01m\\\\\u001b[39;00m\u001b[38;5;124mDiagnostics\u001b[39m\u001b[38;5;130;01m\\\\\u001b[39;00m\u001b[38;5;124mmolarity_class.py\u001b[39m\u001b[38;5;124m'\u001b[39m)\n\u001b[0;32m     15\u001b[0m \u001b[38;5;28;01mfrom\u001b[39;00m \u001b[38;5;21;01mmolarity_class\u001b[39;00m \u001b[38;5;28;01mimport\u001b[39;00m Molarity\n",
      "\u001b[1;31mModuleNotFoundError\u001b[0m: No module named 'spectrum_class'"
     ]
    }
   ],
   "source": [
    "import numpy as np\n",
    "import matplotlib.pyplot as plt\n",
    "import pandas as pd\n",
    "import scipy.optimize as opt\n",
    "from scipy.optimize import fsolve\n",
    "from scipy.integrate import odeint, quad\n",
    "from scipy.interpolate import interp1d\n",
    "from scipy.optimize import curve_fit\n",
    "from scipy.optimize import minimize_scalar as sc\n",
    "import os\n",
    "import sys\n",
    "sys.path.append('\\\\Users\\\\schuy\\\\Desktop\\\\MODES\\\\Battery Data\\\\Li-Li Symmetric Cell\\\\Diagnostics\\\\spectrum_class.py')\n",
    "from spectrum_class import Spectrum\n",
    "sys.path.append('\\\\Users\\\\schuy\\\\Desktop\\\\MODES\\\\Battery Data\\\\Li-Li Symmetric Cell\\\\Diagnostics\\\\molarity_class.py')\n",
    "from molarity_class import Molarity\n",
    "sys.path.append('\\\\Users\\\\schuy\\\\Desktop\\\\MODES\\\\Battery Data\\\\Li-Li Symmetric Cell\\\\Diagnostics\\\\diagnostic_class.py')\n",
    "from diagnostic_class import Diagnostic\n",
    "import spectrochempy as ch\n",
    "import re\n",
    "from scipy.interpolate import griddata\n",
    "from csv_class import SpaDataConverter"
   ]
  },
  {
   "cell_type": "code",
   "execution_count": null,
   "id": "bd13881b-bcd1-4185-a815-47d1ee50a05f",
   "metadata": {},
   "outputs": [],
   "source": []
  }
 ],
 "metadata": {
  "kernelspec": {
   "display_name": "Python 3 (ipykernel)",
   "language": "python",
   "name": "python3"
  },
  "language_info": {
   "codemirror_mode": {
    "name": "ipython",
    "version": 3
   },
   "file_extension": ".py",
   "mimetype": "text/x-python",
   "name": "python",
   "nbconvert_exporter": "python",
   "pygments_lexer": "ipython3",
   "version": "3.9.12"
  }
 },
 "nbformat": 4,
 "nbformat_minor": 5
}
