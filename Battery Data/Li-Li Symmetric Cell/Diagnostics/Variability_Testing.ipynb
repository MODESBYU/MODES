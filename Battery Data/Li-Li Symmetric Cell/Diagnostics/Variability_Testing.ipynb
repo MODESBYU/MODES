{
 "cells": [
  {
   "cell_type": "code",
   "execution_count": 1,
   "id": "ca6d53a6-bb7b-41d6-8afd-98dc4d906989",
   "metadata": {},
   "outputs": [
    {
     "data": {
      "text/html": [
       "\n",
       "    \n",
       "    <div>\n",
       "    <table>\n",
       "    <tr>\n",
       "    <td>\n",
       "    \n",
       "    <img src='data:image/png;base64,iVBORw0KGgoAAAANSUhEUgAAABgAAAAYCAYAAADgdz34AAAAAXNSR0IArs4c6QAAAAlw\n",
       "    SFlzAAAJOgAACToB8GSSSgAAAetpVFh0WE1MOmNvbS5hZG9iZS54bXAAAAAAADx4OnhtcG1ldGEgeG1sbnM6eD0iYWRvYmU6bnM6\n",
       "    bWV0YS8iIHg6eG1wdGs9IlhNUCBDb3JlIDUuNC4wIj4KICAgPHJkZjpSREYgeG1sbnM6cmRmPSJodHRwOi8vd3d3LnczLm9yZy8x\n",
       "    OTk5LzAyLzIyLXJkZi1zeW50YXgtbnMjIj4KICAgICAgPHJkZjpEZXNjcmlwdGlvbiByZGY6YWJvdXQ9IiIKICAgICAgICAgICAg\n",
       "    eG1sbnM6eG1wPSJodHRwOi8vbnMuYWRvYmUuY29tL3hhcC8xLjAvIgogICAgICAgICAgICB4bWxuczp0aWZmPSJodHRwOi8vbnMu\n",
       "    YWRvYmUuY29tL3RpZmYvMS4wLyI+CiAgICAgICAgIDx4bXA6Q3JlYXRvclRvb2w+bWF0cGxvdGxpYiB2ZXJzaW9uIDIuMS4wLCBo\n",
       "    dHRwOi8vbWF0cGxvdGxpYi5vcmcvPC94bXA6Q3JlYXRvclRvb2w+CiAgICAgICAgIDx0aWZmOk9yaWVudGF0aW9uPjE8L3RpZmY6\n",
       "    T3JpZW50YXRpb24+CiAgICAgIDwvcmRmOkRlc2NyaXB0aW9uPgogICA8L3JkZjpSREY+CjwveDp4bXBtZXRhPgqNQaNYAAAGiUlE\n",
       "    QVRIDY1We4xU1Rn/3XPuYx47u8w+hnU38hTcuoUEt/6D2y4RB0ME1BoEd9taJaKh9CFiN7YGp7appUAMNmktMZFoJTYVLVQ0smsy\n",
       "    26CN0SU1QgsuFAaW3WVmx33N677O6XfuyoIxTXqSO/fec+75fd93vt/3/UbDV0aKSZmCpkFMLz3T9utuu2N+o98aDSMBKVAo89z5\n",
       "    y+zEz3ZafcCOfvWdlGCalqKn1Bf71CygTd+mf1esSOnpdMpTb+vWpTZuWVfe3jLPa5tzHYNm0T5N0gpdkkHaDBeGBU6d1/t/fyS8\n",
       "    +/CbqdfUvmsx1PuMgc2bNxv79u1zgd31r+7JH1jbIZKxWRXAcYUQ8IWvBfBXNjEuJWPgMA02NR7C3/pYT9fjdZ3A9tGrWF8YSJHn\n",
       "    qcDz3y7q2T967PZv+gnYJdd1mEZ+62zGDQV/dQgKhmLzDNOXCEWM3j6eTT5Y3w78dOBKJLR1PQf+4ivPj76UPZnssBN+wbM9Aet/\n",
       "    AV81Mf1EEULXYfOobvX2WWQk0aoioXwwSmirOlioY0mu8BIouzYl7P8GV3vpqCCEZvlFz769w08oLDWvyKIyL1asSm28d6WfzA97\n",
       "    ztvvV1kexUMsmhlkULEkuGYmFYC6AvfUrITnwUKl5K79lkjeSSRRTCTbQPd95e1WzMbZSya74XoXAxctCllCnbECMOjZNGRwvzIX\n",
       "    nD85wbkMmKK+U045Dtdi8Qp+SAxU2GTg2bYlC9224pgvmSb54vkVTBQYyhUt2KjAMyMmPjwRQW5Mh2WKwJhlBh6jVGagFM84wZnQ\n",
       "    4bpC0Rt4pk1PbSt0NDcxDA5xryosDHWgtbM0DGZDWLSoiDMDYeQnGVrmOThxLozB0RAaahzkJzjKNqcIQBymJFMkOlN8Dqjpg0XY\n",
       "    Tx5xO/QbmmUrqIjGJznq47TqTaClKYfjp+PInLMwnOdYvtQBZ2XcunQY+VwIo4U4muoFEjVEFE6lQyEUKzHYfgQG9ylCyngU+Cxj\n",
       "    tOqxCDGHcCsOMCs6iQul5ZiStdATYxjMZXDLTUVwLY8Jey4uOh2IxjwsrP8UXJYxUrkZrghBahzV5iXU6gNkq0Z1EzIsUBUSCV2n\n",
       "    EOHo0LVxHCpuxabJJdhi5PFnvw5vLXwXIfNZvD/+JNo/X40NegE54sUaazl+UL8XD1x+FB9Ijjt4EQfdGN6J/x131LwIV9ap/AYs\n",
       "    0x1fz1ZKFbh6A7qKy/By9Dg6G36Ep91vUJJ15Cqr0Z67E8/HzmBrw1OwxWyM+3Mo6BAuSB17oyfx0Oyl2DN0Hqs/70Cx6hBCvESF\n",
       "    UY1ShWXZZEE7OTAYxZzaPH4TuoiusZvRnunFy2NbiHYuBp2vB66srX4vMEjpRKPxKXmnoQ4+Mn4DPiv8CYcrs3GfNUXJLtM+alSO\n",
       "    hrMj/KT+wBNW3+E/2liywNO3iSflbaFva/+stGDTxE0E9Sjaox8HBhxpEamzMGSEaFKg+mjEddzDh1MxTDq3YV1kGBsjfwW3S9Cq\n",
       "    anjmko+ndlb1UR3s6K8JlfphNWq9Ew/7c61T2BB/EbcaNkb8GBaE0tANH7/M34PLdhJDzjIcL9xPbdTG6zyM72Y+wXPHmvB489No\n",
       "    fm0b5HnbQ9Rgp/7DSSd29AeVvPeNyK6JcYl/yQVi5dBjuGvoV/gaJe47s45QUxrDmcYX0MBsdF7egvXZ7+O0vZA4X8QmOQWjlSK7\n",
       "    RDz5wIM30gp9UbWcGjXxhzdDu1SiNSpx6kcQB57rPnr/3dlkZarWLnlRq5oPET1dOCIOk4wALib9eeS5iygfhkd09H0DWphB/+gs\n",
       "    +PcOAS+ssrFmmXXgVfR0de9cpbAJfH3Q1jofW9DZk56dDcVsq9YcsoUMEd1qyLoT3BX1YiyHMJuk97hyjqIoE91t+NcTLeN0ZrfM\n",
       "    oXatZbu6G0h4VG+ibqq0IJVK6cAjo6serG3vSUezCMct0yQeSOFJSUImqb2qbknUpDqlZxE0QZ+ZUpSlZx79h4Nda6zef9dlk121\n",
       "    JDjbR5XggPRZlRnS6bRQRtLpn4++cuie/Yvn2svmNxuLw9WCcYIl4fEoTEGiSTUqJdfgU+8ROqf1iMkLzS389YtNPXc/PH8l8ONB\n",
       "    JZkHD+4JtD04HmVEDWWErmBhzV2/2LB1bemJG6krzv2S6NOHUgtEP0Oif5pE/3fHoruP7N8RiP61GArzSwbUhJJQpXJKiKbfr/3b\n",
       "    IhKq76sKPUdF9NW/LSqfSn6vjv8C45H/6FSgvZQAAAAASUVORK5CYII='\n",
       "         style='height:25px; border-radius:12px; display:inline-block; float:left; vertical-align:middle'>\n",
       "    </img>\n",
       "    \n",
       "    </td>\n",
       "    <td>\n",
       "    \n",
       "    &nbsp;&nbsp;<span style='font-size:12px'>SpectroChemPy's API - v.0.6.8<br/>© Copyright 2014-2024 - A.Travert & C.Fernandez @ LCS</span>\n",
       "    \n",
       "    </td>\n",
       "    </tr>\n",
       "    </table>\n",
       "    </div>\n",
       "    "
      ]
     },
     "metadata": {},
     "output_type": "display_data"
    }
   ],
   "source": [
    "import numpy as np\n",
    "import matplotlib.pyplot as plt\n",
    "import pandas as pd\n",
    "import scipy.optimize as opt\n",
    "from scipy.optimize import fsolve\n",
    "from scipy.integrate import odeint, quad\n",
    "from scipy.interpolate import interp1d\n",
    "from scipy.optimize import curve_fit\n",
    "from scipy.optimize import minimize_scalar as sc\n",
    "import os\n",
    "from spectrum_class import Spectrum\n",
    "from molarity_class import Molarity\n",
    "from diagnostic_class import Diagnostic\n",
    "import spectrochempy as ch\n",
    "import re\n",
    "import glob\n",
    "import matplotlib.pyplot as plt\n",
    "%matplotlib inline"
   ]
  },
  {
   "cell_type": "code",
   "execution_count": 17,
   "id": "d04727a7-c41a-4e78-aa5f-65a052e47e34",
   "metadata": {},
   "outputs": [],
   "source": [
    "path = os.path.dirname(os.getcwd())\n",
    "\n",
    "path_0_0M = path + '\\\\spa data\\\\0_0M\\\\'\n",
    "path_0_4M = path + '\\\\spa data\\\\0_4M\\\\'"
   ]
  },
  {
   "cell_type": "code",
   "execution_count": 3,
   "id": "2dc6dc0b-be50-4770-8176-5eaf22cb6adb",
   "metadata": {},
   "outputs": [
    {
     "name": "stdout",
     "output_type": "stream",
     "text": [
      "NDDataset: [float64] a.u. (shape: (y:1, x:6950))\n"
     ]
    }
   ],
   "source": [
    "Molarities = []\n",
    "def read_first_n_spa_files(dir_path, n):\n",
    "    files = glob.glob(os.path.join(dir_path, '*.spa'))\n",
    "    files = files[:n]\n",
    "    \n",
    "    spectra = []\n",
    "    for file in files:\n",
    "        spectrum = ch.read_spa(file)\n",
    "        spectra.append(spectrum)\n",
    "    \n",
    "    return spectra\n",
    "\n",
    "# Usage\n",
    "first_21_spectra = read_first_n_spa_files(path_0_0M, 21)\n",
    "\n",
    "for i in range (len(first_21_spectra)):\n",
    "    # select an NDDataset object, create a Molarity object\n",
    "    a = Molarity(obj = first_21_spectra[i],M = 0,smooth = 2.0)\n",
    "\n",
    "    # add to the list of Molarity arrays\n",
    "    Molarities.append(a)\n",
    "\n",
    "# plot each plot\n",
    "#for i in Molarities:\n",
    "   # plt.figure(figsize = (14,6))\n",
    "    #i.plot_all()\n",
    "   # plt.show()\n",
    "\n",
    "print(first_21_spectra[0])"
   ]
  },
  {
   "cell_type": "code",
   "execution_count": 15,
   "id": "b6b8ecc5-c9c1-4b47-9bf5-cc998be9682f",
   "metadata": {},
   "outputs": [
    {
     "name": "stdout",
     "output_type": "stream",
     "text": [
      "[0.1395 0.4391 0.3071 0.3823 0.3503 0.1521 0.5287 0.186  0.1342 0.2754 0.2228 0.2067 0.1984 0.4617 0.4261 0.1604 0.133  0.2923 0.2438 0.1721 0.418 ]\n"
     ]
    }
   ],
   "source": [
    "first_data_points = []\n",
    "\n",
    "# Iterate over the spectra\n",
    "for spectrum in first_21_spectra:\n",
    "    # Get the first data point of the spectrum\n",
    "    first_data_point = spectrum.values[0,6949]\n",
    "    \n",
    "    # Append the first data point to the list\n",
    "    first_data_points.append(first_data_point)\n",
    "\n",
    "# Convert the list to a numpy array\n",
    "first_data_points_array = np.array(first_data_points)\n",
    "\n",
    "# Print the array\n",
    "\n",
    "pos = [739.4,1644.1,1752.9,1028.4,1126.0,1542.7,20.3,120.4,324.8,1238.7,1437.6,-171.6,427.8,1347.5,532.9,634.3,-284.2,844.5,938.3,-96.5,212.2]\n",
    "np.set_printoptions(threshold=np.inf)\n",
    "print(first_data_points_array)"
   ]
  },
  {
   "cell_type": "code",
   "execution_count": 16,
   "id": "975a7bbf-def7-42ad-80f8-f0aeea0873f2",
   "metadata": {},
   "outputs": [
    {
     "data": {
      "text/plain": [
       "Text(0.5, 1.0, 'Absorbance at 650cm$^{-1}$')"
      ]
     },
     "execution_count": 16,
     "metadata": {},
     "output_type": "execute_result"
    },
    {
     "data": {
      "image/png": "[encoded data removed]",
      "text/plain": [
       "<Figure size 440x280 with 1 Axes>"
      ]
     },
     "metadata": {},
     "output_type": "display_data"
    }
   ],
   "source": [
    "plt.figure()\n",
    "plt.plot(pos,first_data_points_array,'o')\n",
    "plt.xlabel(\"Position on line\")\n",
    "plt.ylabel(\"Absorbance\")\n",
    "plt.title(\"Absorbance at 650cm$^{-1}$\")"
   ]
  },
  {
   "cell_type": "code",
   "execution_count": 23,
   "id": "bfd8a760-770a-4632-bced-ef35d290369c",
   "metadata": {},
   "outputs": [
    {
     "name": "stdout",
     "output_type": "stream",
     "text": [
      "[0.2626 0.4306 0.351  0.2933 0.5007 0.2288 0.4482 0.4157 0.4061 0.3157 0.4802 0.4605 0.1693 0.1575 0.449  0.4132 0.3875 0.2104 0.1764 0.409 ]\n"
     ]
    },
    {
     "data": {
      "text/plain": [
       "[<matplotlib.lines.Line2D at 0x2d194f4f460>]"
      ]
     },
     "execution_count": 23,
     "metadata": {},
     "output_type": "execute_result"
    },
    {
     "data": {
      "image/png": "[encoded data removed]",
      "text/plain": [
       "<Figure size 440x280 with 1 Axes>"
      ]
     },
     "metadata": {},
     "output_type": "display_data"
    }
   ],
   "source": [
    "Molarities4 = []\n",
    "\n",
    "# Usage\n",
    "_4Mspectra = read_first_n_spa_files(path_0_4M, 20)\n",
    "\n",
    "_4M_data_points = []\n",
    "\n",
    "# Iterate over the spectra\n",
    "for spectrum in _4Mspectra:\n",
    "    # Get the first data point of the spectrum\n",
    "    _4M_data_point = spectrum.values[0,6949]\n",
    "    \n",
    "    # Append the first data point to the list\n",
    "    _4M_data_points.append(_4M_data_point)\n",
    "\n",
    "# Convert the list to a numpy array\n",
    "_4M_data_points_array = np.array(_4M_data_points)\n",
    "\n",
    "# Print the array\n",
    "\n",
    "pos4 = [1407.6,372.5,591.8,1530.4,469,1640,61.1,688.3,1109.3,1197.1,1719,-44.2,-254.7,-364.4,780.4,1315.5,170.7,1004.1,-158.1,271.6]\n",
    "np.set_printoptions(threshold=np.inf)\n",
    "print(_4M_data_points_array)\n",
    "plt.figure()\n",
    "plt.plot(pos4,_4M_data_points_array,'o')"
   ]
  },
  {
   "cell_type": "code",
   "execution_count": null,
   "id": "c1ede6a2-fdd2-49be-bb46-32fdfb28276d",
   "metadata": {},
   "outputs": [],
   "source": []
  }
 ],
 "metadata": {
  "kernelspec": {
   "display_name": "Python 3 (ipykernel)",
   "language": "python",
   "name": "python3"
  },
  "language_info": {
   "codemirror_mode": {
    "name": "ipython",
    "version": 3
   },
   "file_extension": ".py",
   "mimetype": "text/x-python",
   "name": "python",
   "nbconvert_exporter": "python",
   "pygments_lexer": "ipython3",
   "version": "3.9.12"
  }
 },
 "nbformat": 4,
 "nbformat_minor": 5
}
