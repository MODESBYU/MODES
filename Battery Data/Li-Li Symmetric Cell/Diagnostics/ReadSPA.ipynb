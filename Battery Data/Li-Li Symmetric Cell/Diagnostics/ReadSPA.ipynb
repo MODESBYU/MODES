{
 "cells": [
  {
   "cell_type": "code",
   "execution_count": 2,
   "id": "f13a053b-7784-4d73-98af-829dbf71b45b",
   "metadata": {},
   "outputs": [
    {
     "name": "stdout",
     "output_type": "stream",
     "text": [
      "Files detected: 0\n"
     ]
    }
   ],
   "source": [
    "from LoadSpectrum import read_spa\n",
    "import pathlib\n",
    " \n",
    "basepath = '.'\n",
    "paths = [str(x) for x in list(pathlib.Path(basepath).rglob('*.spa'))]\n",
    "print('Files detected: {}'.format(len(paths)))\n",
    "\n",
    "for path in paths:\n",
    "    spectra_tmp, wavelength_tmp, title_tmp = read_spa(path)"
   ]
  },
  {
   "cell_type": "code",
   "execution_count": null,
   "id": "1228031b-9625-4a44-8766-e7bf3065b354",
   "metadata": {},
   "outputs": [],
   "source": []
  }
 ],
 "metadata": {
  "kernelspec": {
   "display_name": "Python 3 (ipykernel)",
   "language": "python",
   "name": "python3"
  },
  "language_info": {
   "codemirror_mode": {
    "name": "ipython",
    "version": 3
   },
   "file_extension": ".py",
   "mimetype": "text/x-python",
   "name": "python",
   "nbconvert_exporter": "python",
   "pygments_lexer": "ipython3",
   "version": "3.9.12"
  }
 },
 "nbformat": 4,
 "nbformat_minor": 5
}
