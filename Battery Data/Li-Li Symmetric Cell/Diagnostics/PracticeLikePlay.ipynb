{
 "cells": [
  {
   "cell_type": "code",
   "execution_count": 2,
   "id": "0b99c11c-6824-46fa-ba79-6b49d7e9e80f",
   "metadata": {},
   "outputs": [],
   "source": [
    "import numpy as np\n",
    "import matplotlib.pyplot as plt\n",
    "import pandas as pd\n",
    "import scipy.optimize as opt\n",
    "from scipy.optimize import fsolve\n",
    "from scipy.integrate import odeint, quad\n",
    "from scipy.interpolate import interp1d\n",
    "from scipy.optimize import curve_fit\n",
    "from scipy.optimize import minimize_scalar as sc\n",
    "import os\n",
    "from spectrum_class import Spectrum\n",
    "from molarity_class import Molarity\n",
    "from diagnostic_class import Diagnostic\n",
    "import spectrochempy as scp\n",
    "import re\n",
    "from scipy.interpolate import griddata"
   ]
  },
  {
   "cell_type": "code",
   "execution_count": 11,
   "id": "e756ebe6-ad7b-446a-b198-5ceb8c63d789",
   "metadata": {},
   "outputs": [],
   "source": [
    "path = os.path.dirname(os.path.dirname(os.getcwd()))\n",
    "folder = path + '\\\\interpolated\\\\'"
   ]
  },
  {
   "cell_type": "code",
   "execution_count": null,
   "id": "5ff5ec7f-9c68-4f87-bc69-a5e12b548608",
   "metadata": {},
   "outputs": [],
   "source": []
  }
 ],
 "metadata": {
  "kernelspec": {
   "display_name": "Python 3 (ipykernel)",
   "language": "python",
   "name": "python3"
  },
  "language_info": {
   "codemirror_mode": {
    "name": "ipython",
    "version": 3
   },
   "file_extension": ".py",
   "mimetype": "text/x-python",
   "name": "python",
   "nbconvert_exporter": "python",
   "pygments_lexer": "ipython3",
   "version": "3.9.12"
  }
 },
 "nbformat": 4,
 "nbformat_minor": 5
}
